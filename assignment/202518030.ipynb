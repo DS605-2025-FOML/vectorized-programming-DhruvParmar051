{
 "cells": [
  {
   "cell_type": "markdown",
   "id": "50d9adbf",
   "metadata": {},
   "source": [
    "## Numpy and Pandas Assignment"
   ]
  },
  {
   "cell_type": "markdown",
   "id": "da67acc7",
   "metadata": {},
   "source": [
    "#### Part 1: NumPy Exercises"
   ]
  },
  {
   "cell_type": "code",
   "execution_count": 2,
   "id": "e422f838",
   "metadata": {},
   "outputs": [],
   "source": [
    "import numpy as np\n",
    "import pandas as pd"
   ]
  },
  {
   "cell_type": "code",
   "execution_count": 3,
   "id": "8ce5634f",
   "metadata": {},
   "outputs": [
    {
     "name": "stdout",
     "output_type": "stream",
     "text": [
      "   PassengerId  Survived  Pclass  \\\n",
      "0            1         0       3   \n",
      "1            2         1       1   \n",
      "2            3         1       3   \n",
      "3            4         1       1   \n",
      "4            5         0       3   \n",
      "\n",
      "                                                Name     Sex   Age  SibSp  \\\n",
      "0                            Braund, Mr. Owen Harris    male  22.0      1   \n",
      "1  Cumings, Mrs. John Bradley (Florence Briggs Th...  female  38.0      1   \n",
      "2                             Heikkinen, Miss. Laina  female  26.0      0   \n",
      "3       Futrelle, Mrs. Jacques Heath (Lily May Peel)  female  35.0      1   \n",
      "4                           Allen, Mr. William Henry    male  35.0      0   \n",
      "\n",
      "   Parch            Ticket     Fare Cabin Embarked  \n",
      "0      0         A/5 21171   7.2500   NaN        S  \n",
      "1      0          PC 17599  71.2833   C85        C  \n",
      "2      0  STON/O2. 3101282   7.9250   NaN        S  \n",
      "3      0            113803  53.1000  C123        S  \n",
      "4      0            373450   8.0500   NaN        S  \n"
     ]
    }
   ],
   "source": [
    "path = r'D:\\DAU\\SEM 1\\DS605 - Fundamentals of Machine Learning\\Lab\\Lab03DhruvParmar051\\dataset\\Titanic-Dataset.csv'\n",
    "titanic_df = pd.read_csv(path)\n",
    "print(titanic_df.head())"
   ]
  },
  {
   "cell_type": "code",
   "execution_count": 4,
   "id": "2112815c",
   "metadata": {},
   "outputs": [
    {
     "name": "stdout",
     "output_type": "stream",
     "text": [
      "<class 'pandas.core.frame.DataFrame'>\n",
      "RangeIndex: 891 entries, 0 to 890\n",
      "Data columns (total 12 columns):\n",
      " #   Column       Non-Null Count  Dtype  \n",
      "---  ------       --------------  -----  \n",
      " 0   PassengerId  891 non-null    int64  \n",
      " 1   Survived     891 non-null    int64  \n",
      " 2   Pclass       891 non-null    int64  \n",
      " 3   Name         891 non-null    object \n",
      " 4   Sex          891 non-null    object \n",
      " 5   Age          714 non-null    float64\n",
      " 6   SibSp        891 non-null    int64  \n",
      " 7   Parch        891 non-null    int64  \n",
      " 8   Ticket       891 non-null    object \n",
      " 9   Fare         891 non-null    float64\n",
      " 10  Cabin        204 non-null    object \n",
      " 11  Embarked     889 non-null    object \n",
      "dtypes: float64(2), int64(5), object(5)\n",
      "memory usage: 83.7+ KB\n"
     ]
    }
   ],
   "source": [
    "titanic_df.info()"
   ]
  },
  {
   "cell_type": "markdown",
   "id": "166d0544",
   "metadata": {},
   "source": [
    "#### Array Creation and Manipulation: \n",
    "-   Load the Age and Fare columns into two separate NumPy arrays, ages and fares. \n",
    "- The ages array has missing values (NaN). Create a new array cleaned_ages where all NaN \n",
    "values are replaced with the median age of the passengers. \n",
    "-  Create a new array fares_in_euros by converting the fares (which are in British Pounds) to \n",
    "Euros. Assume an exchange rate of 1 Pound = 1.18 Euros."
   ]
  },
  {
   "cell_type": "code",
   "execution_count": 5,
   "id": "e0d0a712",
   "metadata": {},
   "outputs": [],
   "source": [
    "# Load the age and fare columns into two separate Numpy arrays, ages and fares\n",
    "\n",
    "ages = np.asarray(titanic_df.Age)\n",
    "fares = np.asarray(titanic_df.Fare)"
   ]
  },
  {
   "cell_type": "code",
   "execution_count": 11,
   "id": "bb77c906",
   "metadata": {},
   "outputs": [
    {
     "name": "stdout",
     "output_type": "stream",
     "text": [
      "[22.   38.   26.   35.   35.   28.   54.    2.   27.   14.    4.   58.\n",
      " 20.   39.   14.   55.    2.   28.   31.   28.   35.   34.   15.   28.\n",
      "  8.   38.   28.   19.   28.   28.   40.   28.   28.   66.   28.   42.\n",
      " 28.   21.   18.   14.   40.   27.   28.    3.   19.   28.   28.   28.\n",
      " 28.   18.    7.   21.   49.   29.   65.   28.   21.   28.5   5.   11.\n",
      " 22.   38.   45.    4.   28.   28.   29.   19.   17.   26.   32.   16.\n",
      " 21.   26.   32.   25.   28.   28.    0.83 30.   22.   29.   28.   28.\n",
      " 17.   33.   16.   28.   23.   24.   29.   20.   46.   26.   59.   28.\n",
      " 71.   23.   34.   34.   28.   28.   21.   33.   37.   28.   21.   28.\n",
      " 38.   28.   47.   14.5  22.   20.   17.   21.   70.5  29.   24.    2.\n",
      " 21.   28.   32.5  32.5  54.   12.   28.   24.   28.   45.   33.   20.\n",
      " 47.   29.   25.   23.   19.   37.   16.   24.   28.   22.   24.   19.\n",
      " 18.   19.   27.    9.   36.5  42.   51.   22.   55.5  40.5  28.   51.\n",
      " 16.   30.   28.   28.   44.   40.   26.   17.    1.    9.   28.   45.\n",
      " 28.   28.   61.    4.    1.   21.   56.   18.   28.   50.   30.   36.\n",
      " 28.   28.    9.    1.    4.   28.   28.   45.   40.   36.   32.   19.\n",
      " 19.    3.   44.   58.   28.   42.   28.   24.   28.   28.   34.   45.5\n",
      " 18.    2.   32.   26.   16.   40.   24.   35.   22.   30.   28.   31.\n",
      " 27.   42.   32.   30.   16.   27.   51.   28.   38.   22.   19.   20.5\n",
      " 18.   28.   35.   29.   59.    5.   24.   28.   44.    8.   19.   33.\n",
      " 28.   28.   29.   22.   30.   44.   25.   24.   37.   54.   28.   29.\n",
      " 62.   30.   41.   29.   28.   30.   35.   50.   28.    3.   52.   40.\n",
      " 28.   36.   16.   25.   58.   35.   28.   25.   41.   37.   28.   63.\n",
      " 45.   28.    7.   35.   65.   28.   16.   19.   28.   33.   30.   22.\n",
      " 42.   22.   26.   19.   36.   24.   24.   28.   23.5   2.   28.   50.\n",
      " 28.   28.   19.   28.   28.    0.92 28.   17.   30.   30.   24.   18.\n",
      " 26.   28.   43.   26.   24.   54.   31.   40.   22.   27.   30.   22.\n",
      " 28.   36.   61.   36.   31.   16.   28.   45.5  38.   16.   28.   28.\n",
      " 29.   41.   45.   45.    2.   24.   28.   25.   36.   24.   40.   28.\n",
      "  3.   42.   23.   28.   15.   25.   28.   28.   22.   38.   28.   28.\n",
      " 40.   29.   45.   35.   28.   30.   60.   28.   28.   24.   25.   18.\n",
      " 19.   22.    3.   28.   22.   27.   20.   19.   42.    1.   32.   35.\n",
      " 28.   18.    1.   36.   28.   17.   36.   21.   28.   23.   24.   22.\n",
      " 31.   46.   23.   28.   39.   26.   21.   28.   20.   34.   51.    3.\n",
      " 21.   28.   28.   28.   33.   28.   44.   28.   34.   18.   30.   10.\n",
      " 28.   21.   29.   28.   18.   28.   28.   19.   28.   32.   28.   28.\n",
      " 42.   17.   50.   14.   21.   24.   64.   31.   45.   20.   25.   28.\n",
      " 28.    4.   13.   34.    5.   52.   36.   28.   30.   49.   28.   29.\n",
      " 65.   28.   50.   28.   48.   34.   47.   48.   28.   38.   28.   56.\n",
      " 28.    0.75 28.   38.   33.   23.   22.   28.   34.   29.   22.    2.\n",
      "  9.   28.   50.   63.   25.   28.   35.   58.   30.    9.   28.   21.\n",
      " 55.   71.   21.   28.   54.   28.   25.   24.   17.   21.   28.   37.\n",
      " 16.   18.   33.   28.   28.   26.   29.   28.   36.   54.   24.   47.\n",
      " 34.   28.   36.   32.   30.   22.   28.   44.   28.   40.5  50.   28.\n",
      " 39.   23.    2.   28.   17.   28.   30.    7.   45.   30.   28.   22.\n",
      " 36.    9.   11.   32.   50.   64.   19.   28.   33.    8.   17.   27.\n",
      " 28.   22.   22.   62.   48.   28.   39.   36.   28.   40.   28.   28.\n",
      " 28.   24.   19.   29.   28.   32.   62.   53.   36.   28.   16.   19.\n",
      " 34.   39.   28.   32.   25.   39.   54.   36.   28.   18.   47.   60.\n",
      " 22.   28.   35.   52.   47.   28.   37.   36.   28.   49.   28.   49.\n",
      " 24.   28.   28.   44.   35.   36.   30.   27.   22.   40.   39.   28.\n",
      " 28.   28.   35.   24.   34.   26.    4.   26.   27.   42.   20.   21.\n",
      " 21.   61.   57.   21.   26.   28.   80.   51.   32.   28.    9.   28.\n",
      " 32.   31.   41.   28.   20.   24.    2.   28.    0.75 48.   19.   56.\n",
      " 28.   23.   28.   18.   21.   28.   18.   24.   28.   32.   23.   58.\n",
      " 50.   40.   47.   36.   20.   32.   25.   28.   43.   28.   40.   31.\n",
      " 70.   31.   28.   18.   24.5  18.   43.   36.   28.   27.   20.   14.\n",
      " 60.   25.   14.   19.   18.   15.   31.    4.   28.   25.   60.   52.\n",
      " 44.   28.   49.   42.   18.   35.   18.   25.   26.   39.   45.   42.\n",
      " 22.   28.   24.   28.   48.   29.   52.   19.   38.   27.   28.   33.\n",
      "  6.   17.   34.   50.   27.   20.   30.   28.   25.   25.   29.   11.\n",
      " 28.   23.   23.   28.5  48.   35.   28.   28.   28.   36.   21.   24.\n",
      " 31.   70.   16.   30.   19.   31.    4.    6.   33.   23.   48.    0.67\n",
      " 28.   18.   34.   33.   28.   41.   20.   36.   16.   51.   28.   30.5\n",
      " 28.   32.   24.   48.   57.   28.   54.   18.   28.    5.   28.   43.\n",
      " 13.   17.   29.   28.   25.   25.   18.    8.    1.   46.   28.   16.\n",
      " 28.   28.   25.   39.   49.   31.   30.   30.   34.   31.   11.    0.42\n",
      " 27.   31.   39.   18.   39.   33.   26.   39.   35.    6.   30.5  28.\n",
      " 23.   31.   43.   10.   52.   27.   38.   27.    2.   28.   28.    1.\n",
      " 28.   62.   15.    0.83 28.   23.   18.   39.   21.   28.   32.   28.\n",
      " 20.   16.   30.   34.5  17.   42.   28.   35.   28.   28.    4.   74.\n",
      "  9.   16.   44.   18.   45.   51.   24.   28.   41.   21.   48.   28.\n",
      " 24.   42.   27.   31.   28.    4.   26.   47.   33.   47.   28.   15.\n",
      " 20.   19.   28.   56.   25.   33.   22.   28.   25.   39.   27.   19.\n",
      " 28.   26.   32.  ]\n"
     ]
    }
   ],
   "source": [
    "# The ages array has missing values (NaN). Create a new array cleaned_ages where all NaN \n",
    "#  values are replaced with the median age of the passengers. \n",
    "cleaned_ages = np.asarray(titanic_df['Age'].fillna(titanic_df['Age'].median()))\n",
    "print(cleaned_ages)"
   ]
  },
  {
   "cell_type": "code",
   "execution_count": 12,
   "id": "a9615049",
   "metadata": {},
   "outputs": [],
   "source": [
    "\"\"\"Create a new array fares_in_euros by converting the fares (which are in British Pounds) to \n",
    "Euros. Assume an exchange rate of 1 Pound = 1.18 Euros\"\"\"\n",
    "\n",
    "fares_in_euros = fares * 1.18 \n"
   ]
  },
  {
   "cell_type": "markdown",
   "id": "52488c55",
   "metadata": {},
   "source": [
    "Statistical Analysis: \n",
    "- Using NumPy, calculate and print the following statistics for the cleaned_ages array: \n",
    "-  Average age \n",
    "-  Standard deviation \n",
    "-  The age of the oldest passenger \n",
    "-  The age of the youngest passenger"
   ]
  },
  {
   "cell_type": "code",
   "execution_count": 13,
   "id": "ab80188e",
   "metadata": {},
   "outputs": [
    {
     "name": "stdout",
     "output_type": "stream",
     "text": [
      "29.36158249158249\n",
      "13.012388272793666\n",
      "80.0\n",
      "0.42\n"
     ]
    }
   ],
   "source": [
    "avg_age = np.mean(cleaned_ages)\n",
    "print(avg_age)\n",
    "std_age = np.std(cleaned_ages)\n",
    "print(std_age)\n",
    "max_age = np.max(cleaned_ages)\n",
    "print(max_age)\n",
    "min_age = np.min(cleaned_ages)\n",
    "print(min_age)"
   ]
  },
  {
   "cell_type": "markdown",
   "id": "bbe0b148",
   "metadata": {},
   "source": [
    "#### Boolean Indexing and Filtering: \n",
    "-  Create a boolean array that is True for passengers who paid a Fare greater than 50 and False \n",
    "otherwise. \n",
    "-  Use this boolean array to count how many passengers paid more than 50 for their ticket. \n",
    "-  Display the ages of these high-paying passengers."
   ]
  },
  {
   "cell_type": "code",
   "execution_count": 15,
   "id": "4888d679",
   "metadata": {},
   "outputs": [
    {
     "name": "stdout",
     "output_type": "stream",
     "text": [
      "160\n",
      "[38.   35.   54.   19.   28.   28.   42.   49.   65.   38.   45.   21.\n",
      " 32.   23.   46.   23.   21.   47.   24.   21.   54.   37.   24.   22.\n",
      " 51.   28.   28.   28.   28.   58.   28.   31.   32.   38.   35.   44.\n",
      " 37.   28.   30.   35.   52.   58.   35.   63.   26.   19.    2.   50.\n",
      "  0.92 28.   17.   30.   24.   18.   31.   40.   28.   36.   16.   38.\n",
      " 28.   29.   41.   24.   22.   60.   24.   25.   22.   28.   27.   42.\n",
      " 35.   18.   36.   23.   33.   50.   14.   64.    4.   49.   28.   28.\n",
      " 25.   35.   54.   25.   16.   18.   26.   54.   30.   44.   28.   30.\n",
      " 36.   50.   17.   28.   39.   53.   39.   39.   18.   60.   52.   49.\n",
      " 40.   24.   42.   21.   24.   28.   48.   24.   58.   50.   32.   28.\n",
      " 31.   36.   27.   15.   31.   28.   49.   18.   22.   48.   38.   27.\n",
      " 29.   35.   36.   21.   70.   19.   48.   33.   36.   51.   43.   17.\n",
      " 46.   28.   11.   33.   52.   28.   62.   39.   32.   28.   28.   45.\n",
      " 28.   31.   47.   56.  ]\n"
     ]
    }
   ],
   "source": [
    "bool_array = fares > 50\n",
    "\n",
    "count_who_paid_more = bool_array.sum()\n",
    "print(count_who_paid_more)\n",
    "\n",
    "show_ages_for_highest_paying_passengers = cleaned_ages[bool_array]\n",
    "print(show_ages_for_highest_paying_passengers)"
   ]
  },
  {
   "cell_type": "markdown",
   "id": "4d6e5b65",
   "metadata": {},
   "source": [
    "## Part 2: Pandas Exercises  "
   ]
  },
  {
   "cell_type": "markdown",
   "id": "0dc05913",
   "metadata": {},
   "source": [
    "- Data Loading and Initial Exploration: \n",
    "- Load the titanic.csv file into a Pandas DataFrame called df. \n",
    "- Display the last 5 rows of the DataFrame. \n",
    "- Get a summary of the DataFrame's technical information (column names, data types, non-null \n",
    "counts). "
   ]
  },
  {
   "cell_type": "code",
   "execution_count": 21,
   "id": "a93c7a1f",
   "metadata": {},
   "outputs": [
    {
     "name": "stdout",
     "output_type": "stream",
     "text": [
      "     PassengerId  Survived  Pclass                                      Name  \\\n",
      "886          887         0       2                     Montvila, Rev. Juozas   \n",
      "887          888         1       1              Graham, Miss. Margaret Edith   \n",
      "888          889         0       3  Johnston, Miss. Catherine Helen \"Carrie\"   \n",
      "889          890         1       1                     Behr, Mr. Karl Howell   \n",
      "890          891         0       3                       Dooley, Mr. Patrick   \n",
      "\n",
      "        Sex   Age  SibSp  Parch      Ticket   Fare Cabin Embarked  \n",
      "886    male  27.0      0      0      211536  13.00   NaN        S  \n",
      "887  female  19.0      0      0      112053  30.00   B42        S  \n",
      "888  female   NaN      1      2  W./C. 6607  23.45   NaN        S  \n",
      "889    male  26.0      0      0      111369  30.00  C148        C  \n",
      "890    male  32.0      0      0      370376   7.75   NaN        Q  \n",
      "<class 'pandas.core.frame.DataFrame'>\n",
      "RangeIndex: 891 entries, 0 to 890\n",
      "Data columns (total 12 columns):\n",
      " #   Column       Non-Null Count  Dtype  \n",
      "---  ------       --------------  -----  \n",
      " 0   PassengerId  891 non-null    int64  \n",
      " 1   Survived     891 non-null    int64  \n",
      " 2   Pclass       891 non-null    int64  \n",
      " 3   Name         891 non-null    object \n",
      " 4   Sex          891 non-null    object \n",
      " 5   Age          714 non-null    float64\n",
      " 6   SibSp        891 non-null    int64  \n",
      " 7   Parch        891 non-null    int64  \n",
      " 8   Ticket       891 non-null    object \n",
      " 9   Fare         891 non-null    float64\n",
      " 10  Cabin        204 non-null    object \n",
      " 11  Embarked     889 non-null    object \n",
      "dtypes: float64(2), int64(5), object(5)\n",
      "memory usage: 83.7+ KB\n",
      "None\n"
     ]
    }
   ],
   "source": [
    "df = pd.read_csv(path)\n",
    "print(df.tail())\n",
    "print(df.info())"
   ]
  },
  {
   "cell_type": "markdown",
   "id": "f39ac78e",
   "metadata": {},
   "source": [
    "### Data Cleaning and Preprocessing: \n",
    "-  The Cabin column has many missing values. Drop this column entirely from the DataFrame. \n",
    "-  Fill the missing values in the Age column using the mean age. \n",
    "-  The Embarked column has a few missing values. Fill them with the mode (the most common \n",
    "port of embarkation). \n",
    "-  Confirm that your DataFrame now has no missing values in any of the remaining columns."
   ]
  },
  {
   "cell_type": "code",
   "execution_count": 22,
   "id": "55824eb5",
   "metadata": {},
   "outputs": [],
   "source": [
    "# The Cabin column has many missing values. Drop this column entirely from the DataFrame. \n",
    "df.drop(columns=['Cabin'], inplace=True)"
   ]
  },
  {
   "cell_type": "code",
   "execution_count": null,
   "id": "7d7b8fa7",
   "metadata": {},
   "outputs": [],
   "source": [
    "# Fill the missing values in the Age column using the mean age. \n",
    "df['Age'] = df['Age'].fillna(df['Age'].mean())"
   ]
  },
  {
   "cell_type": "code",
   "execution_count": 28,
   "id": "ea90c07c",
   "metadata": {},
   "outputs": [],
   "source": [
    "\"\"\"The Embarked column has a few missing values. Fill them with the mode (the most common \n",
    "port of embarkation).\"\"\"\n",
    "df['Embarked'] = df['Embarked'].fillna(df['Embarked'].mode()[0])"
   ]
  },
  {
   "cell_type": "code",
   "execution_count": 29,
   "id": "e277549a",
   "metadata": {},
   "outputs": [
    {
     "name": "stdout",
     "output_type": "stream",
     "text": [
      "PassengerId    0\n",
      "Survived       0\n",
      "Pclass         0\n",
      "Name           0\n",
      "Sex            0\n",
      "Age            0\n",
      "SibSp          0\n",
      "Parch          0\n",
      "Ticket         0\n",
      "Fare           0\n",
      "Embarked       0\n",
      "dtype: int64\n"
     ]
    }
   ],
   "source": [
    "print(df.isna().sum())"
   ]
  },
  {
   "cell_type": "markdown",
   "id": "c1562946",
   "metadata": {},
   "source": [
    "### Feature Engineering: \n",
    "-  Create a new column called FamilySize which is the sum of the SibSp and Parch columns, plus \n",
    "1 (to count the passenger themselves). \n",
    "-  Create a categorical column called AgeGroup. Bin the Age column into the following groups: \n",
    "-  Child: 0-12 \n",
    "-  Teen: 13-19 \n",
    "-  Adult: 20-59 \n",
    "-  Senior: 60+"
   ]
  },
  {
   "cell_type": "code",
   "execution_count": null,
   "id": "edf62152",
   "metadata": {},
   "outputs": [],
   "source": [
    "\"\"\"Create a new column called FamilySize which is the sum of the SibSp and Parch columns, plus \n",
    "1 (to count the passenger themselves)\"\"\"\n",
    "df['Family_size'] = df['SibSp'] + 1"
   ]
  },
  {
   "cell_type": "code",
   "execution_count": 33,
   "id": "7f4edcf1",
   "metadata": {},
   "outputs": [],
   "source": [
    "\"\"\"Create a categorical column called AgeGroup. Bin the Age column into the following groups: \n",
    "Child: 0-12 Teen: 13-19 Adult: 20-59 Senior: 60+\"\"\"\n",
    "df['AgeGroup'] = df['Age Group'] = pd.cut(df['Age'],bins=[0, 12, 19, 59, float('inf')],labels=['Child', 'Teenager', 'Adult','Senior'])"
   ]
  },
  {
   "cell_type": "markdown",
   "id": "8dbfceac",
   "metadata": {},
   "source": [
    "### Data Selection and Querying: \n",
    "-  Display the Name, Sex, and AgeGroup of all passengers who survived. \n",
    "-  Find all female passengers who were in 1st Class (Pclass == 1). \n",
    "-  Select all passengers who embarked from Southampton ('S') and paid a fare less than 10. "
   ]
  },
  {
   "cell_type": "code",
   "execution_count": 35,
   "id": "ae4b6341",
   "metadata": {},
   "outputs": [
    {
     "data": {
      "text/html": [
       "<div>\n",
       "<style scoped>\n",
       "    .dataframe tbody tr th:only-of-type {\n",
       "        vertical-align: middle;\n",
       "    }\n",
       "\n",
       "    .dataframe tbody tr th {\n",
       "        vertical-align: top;\n",
       "    }\n",
       "\n",
       "    .dataframe thead th {\n",
       "        text-align: right;\n",
       "    }\n",
       "</style>\n",
       "<table border=\"1\" class=\"dataframe\">\n",
       "  <thead>\n",
       "    <tr style=\"text-align: right;\">\n",
       "      <th></th>\n",
       "      <th>Name</th>\n",
       "      <th>Sex</th>\n",
       "      <th>AgeGroup</th>\n",
       "    </tr>\n",
       "  </thead>\n",
       "  <tbody>\n",
       "    <tr>\n",
       "      <th>1</th>\n",
       "      <td>Cumings, Mrs. John Bradley (Florence Briggs Th...</td>\n",
       "      <td>female</td>\n",
       "      <td>Adult</td>\n",
       "    </tr>\n",
       "    <tr>\n",
       "      <th>2</th>\n",
       "      <td>Heikkinen, Miss. Laina</td>\n",
       "      <td>female</td>\n",
       "      <td>Adult</td>\n",
       "    </tr>\n",
       "    <tr>\n",
       "      <th>3</th>\n",
       "      <td>Futrelle, Mrs. Jacques Heath (Lily May Peel)</td>\n",
       "      <td>female</td>\n",
       "      <td>Adult</td>\n",
       "    </tr>\n",
       "    <tr>\n",
       "      <th>8</th>\n",
       "      <td>Johnson, Mrs. Oscar W (Elisabeth Vilhelmina Berg)</td>\n",
       "      <td>female</td>\n",
       "      <td>Adult</td>\n",
       "    </tr>\n",
       "    <tr>\n",
       "      <th>9</th>\n",
       "      <td>Nasser, Mrs. Nicholas (Adele Achem)</td>\n",
       "      <td>female</td>\n",
       "      <td>Teenager</td>\n",
       "    </tr>\n",
       "    <tr>\n",
       "      <th>...</th>\n",
       "      <td>...</td>\n",
       "      <td>...</td>\n",
       "      <td>...</td>\n",
       "    </tr>\n",
       "    <tr>\n",
       "      <th>875</th>\n",
       "      <td>Najib, Miss. Adele Kiamie \"Jane\"</td>\n",
       "      <td>female</td>\n",
       "      <td>Teenager</td>\n",
       "    </tr>\n",
       "    <tr>\n",
       "      <th>879</th>\n",
       "      <td>Potter, Mrs. Thomas Jr (Lily Alexenia Wilson)</td>\n",
       "      <td>female</td>\n",
       "      <td>Adult</td>\n",
       "    </tr>\n",
       "    <tr>\n",
       "      <th>880</th>\n",
       "      <td>Shelley, Mrs. William (Imanita Parrish Hall)</td>\n",
       "      <td>female</td>\n",
       "      <td>Adult</td>\n",
       "    </tr>\n",
       "    <tr>\n",
       "      <th>887</th>\n",
       "      <td>Graham, Miss. Margaret Edith</td>\n",
       "      <td>female</td>\n",
       "      <td>Teenager</td>\n",
       "    </tr>\n",
       "    <tr>\n",
       "      <th>889</th>\n",
       "      <td>Behr, Mr. Karl Howell</td>\n",
       "      <td>male</td>\n",
       "      <td>Adult</td>\n",
       "    </tr>\n",
       "  </tbody>\n",
       "</table>\n",
       "<p>342 rows × 3 columns</p>\n",
       "</div>"
      ],
      "text/plain": [
       "                                                  Name     Sex  AgeGroup\n",
       "1    Cumings, Mrs. John Bradley (Florence Briggs Th...  female     Adult\n",
       "2                               Heikkinen, Miss. Laina  female     Adult\n",
       "3         Futrelle, Mrs. Jacques Heath (Lily May Peel)  female     Adult\n",
       "8    Johnson, Mrs. Oscar W (Elisabeth Vilhelmina Berg)  female     Adult\n",
       "9                  Nasser, Mrs. Nicholas (Adele Achem)  female  Teenager\n",
       "..                                                 ...     ...       ...\n",
       "875                   Najib, Miss. Adele Kiamie \"Jane\"  female  Teenager\n",
       "879      Potter, Mrs. Thomas Jr (Lily Alexenia Wilson)  female     Adult\n",
       "880       Shelley, Mrs. William (Imanita Parrish Hall)  female     Adult\n",
       "887                       Graham, Miss. Margaret Edith  female  Teenager\n",
       "889                              Behr, Mr. Karl Howell    male     Adult\n",
       "\n",
       "[342 rows x 3 columns]"
      ]
     },
     "execution_count": 35,
     "metadata": {},
     "output_type": "execute_result"
    }
   ],
   "source": [
    "# Display the Name, Sex, and AgeGroup of all passengers who survived. \n",
    "df[df['Survived'] == 1][['Name', 'Sex', 'AgeGroup']]"
   ]
  },
  {
   "cell_type": "code",
   "execution_count": 46,
   "id": "905f6263",
   "metadata": {},
   "outputs": [
    {
     "name": "stdout",
     "output_type": "stream",
     "text": [
      "     PassengerId  Survived  Pclass  \\\n",
      "1              2         1       1   \n",
      "3              4         1       1   \n",
      "11            12         1       1   \n",
      "31            32         1       1   \n",
      "52            53         1       1   \n",
      "..           ...       ...     ...   \n",
      "856          857         1       1   \n",
      "862          863         1       1   \n",
      "871          872         1       1   \n",
      "879          880         1       1   \n",
      "887          888         1       1   \n",
      "\n",
      "                                                  Name     Sex        Age  \\\n",
      "1    Cumings, Mrs. John Bradley (Florence Briggs Th...  female  38.000000   \n",
      "3         Futrelle, Mrs. Jacques Heath (Lily May Peel)  female  35.000000   \n",
      "11                            Bonnell, Miss. Elizabeth  female  58.000000   \n",
      "31      Spencer, Mrs. William Augustus (Marie Eugenie)  female  29.699118   \n",
      "52            Harper, Mrs. Henry Sleeper (Myna Haxtun)  female  49.000000   \n",
      "..                                                 ...     ...        ...   \n",
      "856         Wick, Mrs. George Dennick (Mary Hitchcock)  female  45.000000   \n",
      "862  Swift, Mrs. Frederick Joel (Margaret Welles Ba...  female  48.000000   \n",
      "871   Beckwith, Mrs. Richard Leonard (Sallie Monypeny)  female  47.000000   \n",
      "879      Potter, Mrs. Thomas Jr (Lily Alexenia Wilson)  female  56.000000   \n",
      "887                       Graham, Miss. Margaret Edith  female  19.000000   \n",
      "\n",
      "     SibSp  Parch    Ticket      Fare Embarked  Family_size  AgeGroup  \\\n",
      "1        1      0  PC 17599   71.2833        C            2     Adult   \n",
      "3        1      0    113803   53.1000        S            2     Adult   \n",
      "11       0      0    113783   26.5500        S            1     Adult   \n",
      "31       1      0  PC 17569  146.5208        C            2     Adult   \n",
      "52       1      0  PC 17572   76.7292        C            2     Adult   \n",
      "..     ...    ...       ...       ...      ...          ...       ...   \n",
      "856      1      1     36928  164.8667        S            2     Adult   \n",
      "862      0      0     17466   25.9292        S            1     Adult   \n",
      "871      1      1     11751   52.5542        S            2     Adult   \n",
      "879      0      1     11767   83.1583        C            1     Adult   \n",
      "887      0      0    112053   30.0000        S            1  Teenager   \n",
      "\n",
      "    Age Group  \n",
      "1       Adult  \n",
      "3       Adult  \n",
      "11      Adult  \n",
      "31      Adult  \n",
      "52      Adult  \n",
      "..        ...  \n",
      "856     Adult  \n",
      "862     Adult  \n",
      "871     Adult  \n",
      "879     Adult  \n",
      "887  Teenager  \n",
      "\n",
      "[94 rows x 14 columns]\n"
     ]
    }
   ],
   "source": [
    "# Find all female passengers who were in 1st Class (Pclass == 1). \n",
    "female_pass_in_1_class = df[(df['Sex'] == 'female') & (df['Pclass'] == 1)]\n",
    "print(female_pass_in_1_class)"
   ]
  },
  {
   "cell_type": "code",
   "execution_count": 45,
   "id": "54ee819f",
   "metadata": {},
   "outputs": [
    {
     "name": "stdout",
     "output_type": "stream",
     "text": [
      "     PassengerId  Survived  Pclass                                  Name  \\\n",
      "0              1         0       3               Braund, Mr. Owen Harris   \n",
      "2              3         1       3                Heikkinen, Miss. Laina   \n",
      "4              5         0       3              Allen, Mr. William Henry   \n",
      "12            13         0       3        Saundercock, Mr. William Henry   \n",
      "14            15         0       3  Vestrom, Miss. Hulda Amanda Adolfina   \n",
      "..           ...       ...     ...                                   ...   \n",
      "876          877         0       3         Gustafsson, Mr. Alfred Ossian   \n",
      "877          878         0       3                  Petroff, Mr. Nedelio   \n",
      "878          879         0       3                    Laleff, Mr. Kristo   \n",
      "881          882         0       3                    Markun, Mr. Johann   \n",
      "884          885         0       3                Sutehall, Mr. Henry Jr   \n",
      "\n",
      "        Sex        Age  SibSp  Parch            Ticket    Fare Embarked  \\\n",
      "0      male  22.000000      1      0         A/5 21171  7.2500        S   \n",
      "2    female  26.000000      0      0  STON/O2. 3101282  7.9250        S   \n",
      "4      male  35.000000      0      0            373450  8.0500        S   \n",
      "12     male  20.000000      0      0         A/5. 2151  8.0500        S   \n",
      "14   female  14.000000      0      0            350406  7.8542        S   \n",
      "..      ...        ...    ...    ...               ...     ...      ...   \n",
      "876    male  20.000000      0      0              7534  9.8458        S   \n",
      "877    male  19.000000      0      0            349212  7.8958        S   \n",
      "878    male  29.699118      0      0            349217  7.8958        S   \n",
      "881    male  33.000000      0      0            349257  7.8958        S   \n",
      "884    male  25.000000      0      0   SOTON/OQ 392076  7.0500        S   \n",
      "\n",
      "     Family_size  AgeGroup Age Group  \n",
      "0              2     Adult     Adult  \n",
      "2              1     Adult     Adult  \n",
      "4              1     Adult     Adult  \n",
      "12             1     Adult     Adult  \n",
      "14             1  Teenager  Teenager  \n",
      "..           ...       ...       ...  \n",
      "876            1     Adult     Adult  \n",
      "877            1  Teenager  Teenager  \n",
      "878            1     Adult     Adult  \n",
      "881            1     Adult     Adult  \n",
      "884            1     Adult     Adult  \n",
      "\n",
      "[245 rows x 14 columns]\n"
     ]
    }
   ],
   "source": [
    "# Select all passengers who embarked from Southampton ('S') and paid a fare less than 10.\n",
    "\n",
    "passengers_embark_s_fare_less_10 =  df[ (df['Embarked'] == 'S') & (df['Fare'] < 10) ]\n",
    "print(passengers_embark_s_fare_less_10)"
   ]
  },
  {
   "cell_type": "markdown",
   "id": "3aecbd0b",
   "metadata": {},
   "source": [
    "### Grouping and Aggregation (Groupby): \n",
    "-  What was the average age of passengers who survived versus those who did not? (Hint: Group \n",
    "by the Survived column). \n",
    "-  Group the DataFrame by Pclass and Sex. For each group, calculate the survival rate (the mean \n",
    "of the Survived column). This will show you the survival probability for men and women in \n",
    "each class."
   ]
  },
  {
   "cell_type": "code",
   "execution_count": null,
   "id": "65c8fc69",
   "metadata": {},
   "outputs": [
    {
     "name": "stdout",
     "output_type": "stream",
     "text": [
      "Survived\n",
      "0    30.415100\n",
      "1    28.549778\n",
      "Name: Age, dtype: float64\n"
     ]
    }
   ],
   "source": [
    "\"\"\"What was the average age of passengers who survived versus those who did not? (Hint: Group \n",
    "by the Survived column).\"\"\"\n",
    "pass_grouped_by_survived = df.groupby('Survived')['Age'].mean()\n",
    "print(pass_grouped_by_survived)"
   ]
  },
  {
   "cell_type": "code",
   "execution_count": 50,
   "id": "5a57fad1",
   "metadata": {},
   "outputs": [
    {
     "name": "stdout",
     "output_type": "stream",
     "text": [
      "Pclass  Sex   \n",
      "1       female    0.968085\n",
      "        male      0.368852\n",
      "2       female    0.921053\n",
      "        male      0.157407\n",
      "3       female    0.500000\n",
      "        male      0.135447\n",
      "Name: Survived, dtype: float64\n"
     ]
    }
   ],
   "source": [
    "\"\"\"Group the DataFrame by Pclass and Sex. For each group, calculate the survival rate (the mean \n",
    "of the Survived column). This will show you the survival probability for men and women in \n",
    "each class.\"\"\"\n",
    "\n",
    "prob_survival_based_on_Pclass_Sex = df.groupby(['Pclass', 'Sex'])['Survived'].mean()\n",
    "print(prob_survival_based_on_Pclass_Sex)"
   ]
  },
  {
   "cell_type": "markdown",
   "id": "8cacd493",
   "metadata": {},
   "source": [
    "### Exporting the Final DataFrame: \n",
    "- Save your final, cleaned DataFrame with the new FamilySize and AgeGroup columns to a new \n",
    "CSV file named titanic_processed.csv. Do not include the pandas index in the file. "
   ]
  },
  {
   "cell_type": "code",
   "execution_count": 54,
   "id": "46f28641",
   "metadata": {},
   "outputs": [],
   "source": [
    "df.to_csv(r'D:\\DAU\\SEM 1\\DS605 - Fundamentals of Machine Learning\\Lab\\Lab03DhruvParmar051\\assignment\\titanic_processed.csv', index=False)"
   ]
  },
  {
   "cell_type": "code",
   "execution_count": null,
   "id": "544c268a",
   "metadata": {},
   "outputs": [],
   "source": []
  }
 ],
 "metadata": {
  "kernelspec": {
   "display_name": ".lab03_venv (3.12.7)",
   "language": "python",
   "name": "python3"
  },
  "language_info": {
   "codemirror_mode": {
    "name": "ipython",
    "version": 3
   },
   "file_extension": ".py",
   "mimetype": "text/x-python",
   "name": "python",
   "nbconvert_exporter": "python",
   "pygments_lexer": "ipython3",
   "version": "3.12.7"
  }
 },
 "nbformat": 4,
 "nbformat_minor": 5
}
